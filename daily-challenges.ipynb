{
 "cells": [
  {
   "cell_type": "markdown",
   "metadata": {},
   "source": [
    "1E. Given a list of numbers and a number k, return whether any two numbers from the list add up to k. "
   ]
  },
  {
   "cell_type": "code",
   "execution_count": 1,
   "metadata": {
    "scrolled": true
   },
   "outputs": [
    {
     "data": {
      "text/plain": [
       "True"
      ]
     },
     "execution_count": 1,
     "metadata": {},
     "output_type": "execute_result"
    }
   ],
   "source": [
    "def twosum(L,k):\n",
    "    for i in range(len(L)):\n",
    "        diff = k - L[i]\n",
    "        if diff in L:\n",
    "            return True\n",
    "    return False\n",
    "\n",
    "twosum([10,15,3,7], 17)"
   ]
  },
  {
   "cell_type": "markdown",
   "metadata": {},
   "source": [
    "2H. Given an array of integers, return a new array such that each element at index i of the new array is the product of all the numbers in the original array except the one at i."
   ]
  },
  {
   "cell_type": "code",
   "execution_count": 2,
   "metadata": {},
   "outputs": [
    {
     "data": {
      "text/plain": [
       "[120.0, 60.0, 40.0, 30.0, 24.0]"
      ]
     },
     "execution_count": 2,
     "metadata": {},
     "output_type": "execute_result"
    }
   ],
   "source": [
    "def prod_array(L):\n",
    "    prod = 1\n",
    "    new_array = []\n",
    "    for i in range(len(L)):\n",
    "        prod *= L[i]\n",
    "    for j in range(len(L)):\n",
    "        new_array.append(prod/L[j])\n",
    "    return new_array\n",
    "\n",
    "prod_array([1,2,3,4,5])"
   ]
  },
  {
   "cell_type": "markdown",
   "metadata": {},
   "source": [
    "4H. Given an array of integers, find the first missing positive integer in linear time and constant space. In other words, find the lowest positive integer that does not exist in the array. The array can contain duplicates and negative numbers as well."
   ]
  },
  {
   "cell_type": "code",
   "execution_count": 3,
   "metadata": {},
   "outputs": [
    {
     "data": {
      "text/plain": [
       "1"
      ]
     },
     "execution_count": 3,
     "metadata": {},
     "output_type": "execute_result"
    }
   ],
   "source": [
    "def missing_lowpos(L):\n",
    "    L = sorted(set(L))\n",
    "    new_L = [i for i in L if i >= 0]\n",
    "    compare_L = list(range(min(new_L),max(new_L)+1))\n",
    "    missing_val = list(set(compare_L).difference(set(new_L)))\n",
    "    if len(missing_val) == 0:\n",
    "        return max(new_L)+1\n",
    "    return missing_val[0]\n",
    "\n",
    "missing_lowpos([4,-1,-1,9,0,3])"
   ]
  },
  {
   "cell_type": "markdown",
   "metadata": {},
   "source": [
    "5M. cons(a, b) constructs a pair, and car(pair) and cdr(pair) returns the first and last element of that pair. For example, car(cons(3, 4)) returns 3, and cdr(cons(3, 4)) returns 4.\n",
    "\n",
    "Given this implementation of cons:\n",
    "\n",
    "def cons(a, b):\n",
    "    def pair(f):\n",
    "        return f(a, b)\n",
    "    return pair\n",
    "\n",
    "Implement car and cdr."
   ]
  },
  {
   "cell_type": "code",
   "execution_count": 4,
   "metadata": {},
   "outputs": [
    {
     "data": {
      "text/plain": [
       "4"
      ]
     },
     "execution_count": 4,
     "metadata": {},
     "output_type": "execute_result"
    }
   ],
   "source": [
    "def cons(a, b):\n",
    "    def pair(f):\n",
    "        return f(a, b)\n",
    "    return pair\n",
    "def car(f):\n",
    "    def first(a,b):\n",
    "        return a\n",
    "    return f(first)\n",
    "def cdr(f):\n",
    "    def last(a,b):\n",
    "        return b\n",
    "    return f(last)\n",
    "\n",
    "car(cons(3,4))\n",
    "cdr(cons(3,4))"
   ]
  },
  {
   "cell_type": "markdown",
   "metadata": {},
   "source": [
    "7M. Given the mapping a = 1, b = 2, ... z = 26, and an encoded message, count the number of ways it can be decoded. "
   ]
  },
  {
   "cell_type": "code",
   "execution_count": 5,
   "metadata": {},
   "outputs": [
    {
     "data": {
      "text/plain": [
       "4"
      ]
     },
     "execution_count": 5,
     "metadata": {},
     "output_type": "execute_result"
    }
   ],
   "source": [
    "def numDecodings(s):\n",
    "    if not s or s[0]=='0':\n",
    "        return 0\n",
    "\n",
    "    dp = [0 for x in range(len(s) + 1)] \n",
    "\n",
    "    # base case initialization\n",
    "    dp[0:2] = [1,1]\n",
    "\n",
    "    for i in range(2, len(s) + 1): \n",
    "        # One step jump\n",
    "        if 0 < int(s[i-1:i]):    #(2)\n",
    "            dp[i] = dp[i - 1]\n",
    "        # Two step jump\n",
    "        if 10 <= int(s[i-2:i]) <= 26: #(3)\n",
    "            dp[i] += dp[i - 2]\n",
    "            \n",
    "    return dp[-1]\n",
    "\n",
    "numDecodings('1411')"
   ]
  },
  {
   "cell_type": "markdown",
   "metadata": {},
   "source": [
    "9H. Given a list of integers, write a function that returns the largest sum of non-adjacent numbers. Numbers can be 0 or negative.\n"
   ]
  },
  {
   "cell_type": "code",
   "execution_count": 6,
   "metadata": {},
   "outputs": [
    {
     "data": {
      "text/plain": [
       "13"
      ]
     },
     "execution_count": 6,
     "metadata": {},
     "output_type": "execute_result"
    }
   ],
   "source": [
    "def sum_nonadj(L):\n",
    "    large = 0\n",
    "    for i in range(len(L)):\n",
    "        for j in range(1,len(L)):\n",
    "            num = L[i::j+1]\n",
    "            #print(num)\n",
    "            if large < sum(num):\n",
    "                large = sum(num)\n",
    "    return large\n",
    "\n",
    "sum_nonadj([2,4,6,2,5])"
   ]
  },
  {
   "cell_type": "markdown",
   "metadata": {},
   "source": [
    "11M. Given a query string s and a set of all possible query strings, return all strings in the set that have s as a prefix. "
   ]
  },
  {
   "cell_type": "code",
   "execution_count": 7,
   "metadata": {
    "scrolled": true
   },
   "outputs": [
    {
     "data": {
      "text/plain": [
       "['deal', 'deer']"
      ]
     },
     "execution_count": 7,
     "metadata": {},
     "output_type": "execute_result"
    }
   ],
   "source": [
    "def prefix_query(S,s):\n",
    "    s.sort()\n",
    "    queries = []\n",
    "    for words in s:\n",
    "        if words[:len(S)] == S:\n",
    "            queries.append(words)\n",
    "    return queries\n",
    "\n",
    "prefix_query('de', ['dog', 'deer', 'deal'])"
   ]
  },
  {
   "cell_type": "markdown",
   "metadata": {},
   "source": [
    "12H. Given N, write a function that returns the number of unique ways you can climb the staircase.\n"
   ]
  },
  {
   "cell_type": "code",
   "execution_count": 8,
   "metadata": {},
   "outputs": [
    {
     "data": {
      "text/plain": [
       "3"
      ]
     },
     "execution_count": 8,
     "metadata": {},
     "output_type": "execute_result"
    }
   ],
   "source": [
    "def fibonacci(N):\n",
    "    a, b = 1, 2\n",
    "    for i in range(N-1):\n",
    "        a, b = b, a + b\n",
    "    return a\n",
    "\n",
    "fibonacci(3) "
   ]
  },
  {
   "cell_type": "markdown",
   "metadata": {},
   "source": [
    "18H. Given an array of integers and a number k, where 1 <= k <= length of the array, compute the maximum values of each subarray of length k."
   ]
  },
  {
   "cell_type": "code",
   "execution_count": 9,
   "metadata": {},
   "outputs": [
    {
     "data": {
      "text/plain": [
       "[10, 7, 8, 8]"
      ]
     },
     "execution_count": 9,
     "metadata": {},
     "output_type": "execute_result"
    }
   ],
   "source": [
    "def max_subarray(L, k):\n",
    "    max_num = []\n",
    "    for i in range(len(L)-k+1):\n",
    "        num = max(L[i:i+k])\n",
    "        max_num.append(num)\n",
    "    return max_num\n",
    "\n",
    "max_subarray([10,5,2,7,8,7], 3)"
   ]
  },
  {
   "cell_type": "markdown",
   "metadata": {},
   "source": [
    "21E. Given an array of time intervals (start, end) for classroom lectures (possibly overlapping), find the minimum number of rooms required."
   ]
  },
  {
   "cell_type": "code",
   "execution_count": 10,
   "metadata": {},
   "outputs": [
    {
     "data": {
      "text/plain": [
       "2"
      ]
     },
     "execution_count": 10,
     "metadata": {},
     "output_type": "execute_result"
    }
   ],
   "source": [
    "def min_room(L):\n",
    "    room = 0\n",
    "    L = sorted(set(L))\n",
    "    for i in range(len(L)-1):\n",
    "        if L[i][1] > L[i+1][0]:\n",
    "            room += 1\n",
    "    return room\n",
    "\n",
    "min_room([(30, 75), (0, 50), (60, 150)])"
   ]
  }
 ],
 "metadata": {
  "kernelspec": {
   "display_name": "Python 3",
   "language": "python",
   "name": "python3"
  },
  "language_info": {
   "codemirror_mode": {
    "name": "ipython",
    "version": 3
   },
   "file_extension": ".py",
   "mimetype": "text/x-python",
   "name": "python",
   "nbconvert_exporter": "python",
   "pygments_lexer": "ipython3",
   "version": "3.7.1"
  }
 },
 "nbformat": 4,
 "nbformat_minor": 2
}
